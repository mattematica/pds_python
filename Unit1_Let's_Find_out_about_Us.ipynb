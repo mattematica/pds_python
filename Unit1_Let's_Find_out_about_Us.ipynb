{
  "nbformat": 4,
  "nbformat_minor": 0,
  "metadata": {
    "colab": {
      "name": "Unit1: Let's Find out about Us.ipynb",
      "provenance": [],
      "mount_file_id": "1ta2jqn6ybuvy_DypgIeIcZYdwRE0f6by",
      "authorship_tag": "ABX9TyPwdsjA1kR4q8HOAxXnN2P0",
      "include_colab_link": true
    },
    "kernelspec": {
      "name": "python3",
      "display_name": "Python 3"
    },
    "language_info": {
      "name": "python"
    }
  },
  "cells": [
    {
      "cell_type": "markdown",
      "metadata": {
        "id": "view-in-github",
        "colab_type": "text"
      },
      "source": [
        "<a href=\"https://colab.research.google.com/github/mattematica/pds_python/blob/main/Unit1_Let's_Find_out_about_Us.ipynb\" target=\"_parent\"><img src=\"https://colab.research.google.com/assets/colab-badge.svg\" alt=\"Open In Colab\"/></a>"
      ]
    },
    {
      "cell_type": "markdown",
      "source": [
        "#Introduction\n",
        "In this activatity we will explore the data that you created from your class survey. For categorical data, we will summarize using `.value_counts()` and for numeric data we will look at `.mean()`, `.median()` and `.describe()`.  \n",
        "\n"
      ],
      "metadata": {
        "id": "D6sneHwaBLFI"
      }
    },
    {
      "cell_type": "markdown",
      "source": [
        "# Code\n",
        "\n",
        "We will always start by importing the `pandas`, `numpy` and `seaborn` libraries. These will give Python the access to all of the functions that we will use. Every notebook will begin with the same block. "
      ],
      "metadata": {
        "id": "tXK4HzgBLOMh"
      }
    },
    {
      "cell_type": "code",
      "source": [
        "import pandas as pd;\n",
        "import seaborn as sb; \n",
        "import numpy as np; "
      ],
      "metadata": {
        "id": "418I8370LNmT"
      },
      "execution_count": 1,
      "outputs": []
    },
    {
      "cell_type": "markdown",
      "source": [
        "Next we will import the data using the `.read_csv()` command. For example, \n",
        "\n",
        "\n",
        "```\n",
        "myData = pd.read_csv(\"/content/drive/MyDrive/2022/Fall/Math 200/Data/s20-survey.csv\")\n",
        "```\n",
        "\n",
        "imports older survey data from my google drive. I have shared our class' data for you (Make sure to mount your google drive each time to make the data avaiable.)\n"
      ],
      "metadata": {
        "id": "foGGSobDL4RO"
      }
    },
    {
      "cell_type": "code",
      "source": [
        "myData = pd.read_csv(\"/content/drive/MyDrive/2022/Fall/Math 200/Data/s20-survey.csv\")"
      ],
      "metadata": {
        "id": "zgsOL-pTLLZ3"
      },
      "execution_count": 3,
      "outputs": []
    },
    {
      "cell_type": "markdown",
      "source": [
        "After you first import your data it is helpful to look at only a few responses to get a sense for what is contained in the data. We can do this using the `.head()` function. The command below looks at the first 7 responses of for my spring 2020 survey data. "
      ],
      "metadata": {
        "id": "CPdCNnVeP9df"
      }
    },
    {
      "cell_type": "code",
      "source": [
        "myData.head(7)"
      ],
      "metadata": {
        "colab": {
          "base_uri": "https://localhost:8080/",
          "height": 524
        },
        "id": "uyxYq0K9NsdN",
        "outputId": "b1c34da6-1f8e-4c42-84de-bbab94fa9b0f"
      },
      "execution_count": 7,
      "outputs": [
        {
          "output_type": "execute_result",
          "data": {
            "text/plain": [
              "   gender hcolor ecolor baseball football  distance            city  \\\n",
              "0    Male  Black  brown   Giants    49ers       3.5    Redwood City   \n",
              "1    Male  Black  brown   Giants    49ers      15.0    Redwood City   \n",
              "2  Female  Black  brown   Giants    49ers      11.1  East Palo Alto   \n",
              "3  Female  Brown  hazel   Giants  Raiders       7.0  East Palo Alto   \n",
              "4    Male  Brown  brown   Giants    49ers       1.0        Woodside   \n",
              "5  Female  Brown  brown   Giants    49ers      22.0     Santa Clara   \n",
              "6  Female  Brown  brown   Giants  Raiders      18.0  Half Moon Bay    \n",
              "\n",
              "   time_commute         work love_stats m190  cig   mj  height  weight  \n",
              "0          15.0  10-19 hours         No   No   No  Yes    71.0   170.0  \n",
              "1          22.0    40+ hours        Yes   No   No  Yes    75.0   210.0  \n",
              "2          26.0  10-19 hours         No   No   No   No    60.0   140.0  \n",
              "3          60.0    0-9 hours         No   No   No   No    64.0   146.0  \n",
              "4           6.0    0-9 hours         No   No  Yes  Yes    72.0   145.0  \n",
              "5          35.0  10-19 hours         No   No   No  Yes    60.0   130.0  \n",
              "6          30.0  10-19 hours         No   No   No  Yes     5.2   120.0  "
            ],
            "text/html": [
              "\n",
              "  <div id=\"df-823680b0-a5d4-41cb-8c6a-98d7be1538ef\">\n",
              "    <div class=\"colab-df-container\">\n",
              "      <div>\n",
              "<style scoped>\n",
              "    .dataframe tbody tr th:only-of-type {\n",
              "        vertical-align: middle;\n",
              "    }\n",
              "\n",
              "    .dataframe tbody tr th {\n",
              "        vertical-align: top;\n",
              "    }\n",
              "\n",
              "    .dataframe thead th {\n",
              "        text-align: right;\n",
              "    }\n",
              "</style>\n",
              "<table border=\"1\" class=\"dataframe\">\n",
              "  <thead>\n",
              "    <tr style=\"text-align: right;\">\n",
              "      <th></th>\n",
              "      <th>gender</th>\n",
              "      <th>hcolor</th>\n",
              "      <th>ecolor</th>\n",
              "      <th>baseball</th>\n",
              "      <th>football</th>\n",
              "      <th>distance</th>\n",
              "      <th>city</th>\n",
              "      <th>time_commute</th>\n",
              "      <th>work</th>\n",
              "      <th>love_stats</th>\n",
              "      <th>m190</th>\n",
              "      <th>cig</th>\n",
              "      <th>mj</th>\n",
              "      <th>height</th>\n",
              "      <th>weight</th>\n",
              "    </tr>\n",
              "  </thead>\n",
              "  <tbody>\n",
              "    <tr>\n",
              "      <th>0</th>\n",
              "      <td>Male</td>\n",
              "      <td>Black</td>\n",
              "      <td>brown</td>\n",
              "      <td>Giants</td>\n",
              "      <td>49ers</td>\n",
              "      <td>3.5</td>\n",
              "      <td>Redwood City</td>\n",
              "      <td>15.0</td>\n",
              "      <td>10-19 hours</td>\n",
              "      <td>No</td>\n",
              "      <td>No</td>\n",
              "      <td>No</td>\n",
              "      <td>Yes</td>\n",
              "      <td>71.0</td>\n",
              "      <td>170.0</td>\n",
              "    </tr>\n",
              "    <tr>\n",
              "      <th>1</th>\n",
              "      <td>Male</td>\n",
              "      <td>Black</td>\n",
              "      <td>brown</td>\n",
              "      <td>Giants</td>\n",
              "      <td>49ers</td>\n",
              "      <td>15.0</td>\n",
              "      <td>Redwood City</td>\n",
              "      <td>22.0</td>\n",
              "      <td>40+ hours</td>\n",
              "      <td>Yes</td>\n",
              "      <td>No</td>\n",
              "      <td>No</td>\n",
              "      <td>Yes</td>\n",
              "      <td>75.0</td>\n",
              "      <td>210.0</td>\n",
              "    </tr>\n",
              "    <tr>\n",
              "      <th>2</th>\n",
              "      <td>Female</td>\n",
              "      <td>Black</td>\n",
              "      <td>brown</td>\n",
              "      <td>Giants</td>\n",
              "      <td>49ers</td>\n",
              "      <td>11.1</td>\n",
              "      <td>East Palo Alto</td>\n",
              "      <td>26.0</td>\n",
              "      <td>10-19 hours</td>\n",
              "      <td>No</td>\n",
              "      <td>No</td>\n",
              "      <td>No</td>\n",
              "      <td>No</td>\n",
              "      <td>60.0</td>\n",
              "      <td>140.0</td>\n",
              "    </tr>\n",
              "    <tr>\n",
              "      <th>3</th>\n",
              "      <td>Female</td>\n",
              "      <td>Brown</td>\n",
              "      <td>hazel</td>\n",
              "      <td>Giants</td>\n",
              "      <td>Raiders</td>\n",
              "      <td>7.0</td>\n",
              "      <td>East Palo Alto</td>\n",
              "      <td>60.0</td>\n",
              "      <td>0-9 hours</td>\n",
              "      <td>No</td>\n",
              "      <td>No</td>\n",
              "      <td>No</td>\n",
              "      <td>No</td>\n",
              "      <td>64.0</td>\n",
              "      <td>146.0</td>\n",
              "    </tr>\n",
              "    <tr>\n",
              "      <th>4</th>\n",
              "      <td>Male</td>\n",
              "      <td>Brown</td>\n",
              "      <td>brown</td>\n",
              "      <td>Giants</td>\n",
              "      <td>49ers</td>\n",
              "      <td>1.0</td>\n",
              "      <td>Woodside</td>\n",
              "      <td>6.0</td>\n",
              "      <td>0-9 hours</td>\n",
              "      <td>No</td>\n",
              "      <td>No</td>\n",
              "      <td>Yes</td>\n",
              "      <td>Yes</td>\n",
              "      <td>72.0</td>\n",
              "      <td>145.0</td>\n",
              "    </tr>\n",
              "    <tr>\n",
              "      <th>5</th>\n",
              "      <td>Female</td>\n",
              "      <td>Brown</td>\n",
              "      <td>brown</td>\n",
              "      <td>Giants</td>\n",
              "      <td>49ers</td>\n",
              "      <td>22.0</td>\n",
              "      <td>Santa Clara</td>\n",
              "      <td>35.0</td>\n",
              "      <td>10-19 hours</td>\n",
              "      <td>No</td>\n",
              "      <td>No</td>\n",
              "      <td>No</td>\n",
              "      <td>Yes</td>\n",
              "      <td>60.0</td>\n",
              "      <td>130.0</td>\n",
              "    </tr>\n",
              "    <tr>\n",
              "      <th>6</th>\n",
              "      <td>Female</td>\n",
              "      <td>Brown</td>\n",
              "      <td>brown</td>\n",
              "      <td>Giants</td>\n",
              "      <td>Raiders</td>\n",
              "      <td>18.0</td>\n",
              "      <td>Half Moon Bay</td>\n",
              "      <td>30.0</td>\n",
              "      <td>10-19 hours</td>\n",
              "      <td>No</td>\n",
              "      <td>No</td>\n",
              "      <td>No</td>\n",
              "      <td>Yes</td>\n",
              "      <td>5.2</td>\n",
              "      <td>120.0</td>\n",
              "    </tr>\n",
              "  </tbody>\n",
              "</table>\n",
              "</div>\n",
              "      <button class=\"colab-df-convert\" onclick=\"convertToInteractive('df-823680b0-a5d4-41cb-8c6a-98d7be1538ef')\"\n",
              "              title=\"Convert this dataframe to an interactive table.\"\n",
              "              style=\"display:none;\">\n",
              "        \n",
              "  <svg xmlns=\"http://www.w3.org/2000/svg\" height=\"24px\"viewBox=\"0 0 24 24\"\n",
              "       width=\"24px\">\n",
              "    <path d=\"M0 0h24v24H0V0z\" fill=\"none\"/>\n",
              "    <path d=\"M18.56 5.44l.94 2.06.94-2.06 2.06-.94-2.06-.94-.94-2.06-.94 2.06-2.06.94zm-11 1L8.5 8.5l.94-2.06 2.06-.94-2.06-.94L8.5 2.5l-.94 2.06-2.06.94zm10 10l.94 2.06.94-2.06 2.06-.94-2.06-.94-.94-2.06-.94 2.06-2.06.94z\"/><path d=\"M17.41 7.96l-1.37-1.37c-.4-.4-.92-.59-1.43-.59-.52 0-1.04.2-1.43.59L10.3 9.45l-7.72 7.72c-.78.78-.78 2.05 0 2.83L4 21.41c.39.39.9.59 1.41.59.51 0 1.02-.2 1.41-.59l7.78-7.78 2.81-2.81c.8-.78.8-2.07 0-2.86zM5.41 20L4 18.59l7.72-7.72 1.47 1.35L5.41 20z\"/>\n",
              "  </svg>\n",
              "      </button>\n",
              "      \n",
              "  <style>\n",
              "    .colab-df-container {\n",
              "      display:flex;\n",
              "      flex-wrap:wrap;\n",
              "      gap: 12px;\n",
              "    }\n",
              "\n",
              "    .colab-df-convert {\n",
              "      background-color: #E8F0FE;\n",
              "      border: none;\n",
              "      border-radius: 50%;\n",
              "      cursor: pointer;\n",
              "      display: none;\n",
              "      fill: #1967D2;\n",
              "      height: 32px;\n",
              "      padding: 0 0 0 0;\n",
              "      width: 32px;\n",
              "    }\n",
              "\n",
              "    .colab-df-convert:hover {\n",
              "      background-color: #E2EBFA;\n",
              "      box-shadow: 0px 1px 2px rgba(60, 64, 67, 0.3), 0px 1px 3px 1px rgba(60, 64, 67, 0.15);\n",
              "      fill: #174EA6;\n",
              "    }\n",
              "\n",
              "    [theme=dark] .colab-df-convert {\n",
              "      background-color: #3B4455;\n",
              "      fill: #D2E3FC;\n",
              "    }\n",
              "\n",
              "    [theme=dark] .colab-df-convert:hover {\n",
              "      background-color: #434B5C;\n",
              "      box-shadow: 0px 1px 3px 1px rgba(0, 0, 0, 0.15);\n",
              "      filter: drop-shadow(0px 1px 2px rgba(0, 0, 0, 0.3));\n",
              "      fill: #FFFFFF;\n",
              "    }\n",
              "  </style>\n",
              "\n",
              "      <script>\n",
              "        const buttonEl =\n",
              "          document.querySelector('#df-823680b0-a5d4-41cb-8c6a-98d7be1538ef button.colab-df-convert');\n",
              "        buttonEl.style.display =\n",
              "          google.colab.kernel.accessAllowed ? 'block' : 'none';\n",
              "\n",
              "        async function convertToInteractive(key) {\n",
              "          const element = document.querySelector('#df-823680b0-a5d4-41cb-8c6a-98d7be1538ef');\n",
              "          const dataTable =\n",
              "            await google.colab.kernel.invokeFunction('convertToInteractive',\n",
              "                                                     [key], {});\n",
              "          if (!dataTable) return;\n",
              "\n",
              "          const docLinkHtml = 'Like what you see? Visit the ' +\n",
              "            '<a target=\"_blank\" href=https://colab.research.google.com/notebooks/data_table.ipynb>data table notebook</a>'\n",
              "            + ' to learn more about interactive tables.';\n",
              "          element.innerHTML = '';\n",
              "          dataTable['output_type'] = 'display_data';\n",
              "          await google.colab.output.renderOutput(dataTable, element);\n",
              "          const docLink = document.createElement('div');\n",
              "          docLink.innerHTML = docLinkHtml;\n",
              "          element.appendChild(docLink);\n",
              "        }\n",
              "      </script>\n",
              "    </div>\n",
              "  </div>\n",
              "  "
            ]
          },
          "metadata": {},
          "execution_count": 7
        }
      ]
    },
    {
      "cell_type": "markdown",
      "source": [
        "`.value_counts()` is the function that takes the responses for a particular variable and coutnts the number of resposes for each. This is particularly useful when dealing with categorical variables. Below I am taking the \"hair color\" variable and summarizing the responses. "
      ],
      "metadata": {
        "id": "ZZGq0xCkSOni"
      }
    },
    {
      "cell_type": "code",
      "source": [
        "myData[\"hcolor\"].value_counts()"
      ],
      "metadata": {
        "colab": {
          "base_uri": "https://localhost:8080/"
        },
        "id": "3l8N_nR-PHkf",
        "outputId": "8ffa8486-6743-47f3-bddb-e7cb6efbeb03"
      },
      "execution_count": 12,
      "outputs": [
        {
          "output_type": "execute_result",
          "data": {
            "text/plain": [
              "Brown     38\n",
              "Black     37\n",
              "Blonde     6\n",
              "Red        1\n",
              "Name: hcolor, dtype: int64"
            ]
          },
          "metadata": {},
          "execution_count": 12
        }
      ]
    },
    {
      "cell_type": "markdown",
      "source": [
        "If we would like to look at the relative frequency of each response, we pass the `normalize=True` argument to the `.value_counts()` command. The relative frequency is the proportion of the responses that are in each category."
      ],
      "metadata": {
        "id": "hBNh8EzBZaNB"
      }
    },
    {
      "cell_type": "code",
      "source": [
        "myData[\"hcolor\"].value_counts(normalize=True)"
      ],
      "metadata": {
        "colab": {
          "base_uri": "https://localhost:8080/"
        },
        "id": "9umA1nijZrHj",
        "outputId": "27d2a887-ed23-4de8-e855-4f143edeecb2"
      },
      "execution_count": 13,
      "outputs": [
        {
          "output_type": "execute_result",
          "data": {
            "text/plain": [
              "Brown     0.463415\n",
              "Black     0.451220\n",
              "Blonde    0.073171\n",
              "Red       0.012195\n",
              "Name: hcolor, dtype: float64"
            ]
          },
          "metadata": {},
          "execution_count": 13
        }
      ]
    },
    {
      "cell_type": "markdown",
      "source": [
        "We can make these proportions into percentages by multiplying by 100. "
      ],
      "metadata": {
        "id": "V0wRDhu8bOQC"
      }
    },
    {
      "cell_type": "code",
      "source": [
        "myData[\"hcolor\"].value_counts(normalize=True)*100"
      ],
      "metadata": {
        "colab": {
          "base_uri": "https://localhost:8080/"
        },
        "id": "kdC9x4qSbX7-",
        "outputId": "5dc88b44-5a1f-4ea9-a761-9838d9d9329e"
      },
      "execution_count": 14,
      "outputs": [
        {
          "output_type": "execute_result",
          "data": {
            "text/plain": [
              "Brown     46.341463\n",
              "Black     45.121951\n",
              "Blonde     7.317073\n",
              "Red        1.219512\n",
              "Name: hcolor, dtype: float64"
            ]
          },
          "metadata": {},
          "execution_count": 14
        }
      ]
    },
    {
      "cell_type": "markdown",
      "source": [
        "Note that this just moves the decimal place two places to the right. As you get more comfortable, this will become a natural conversion. "
      ],
      "metadata": {
        "id": "0ecfnOZVbdjs"
      }
    },
    {
      "cell_type": "markdown",
      "source": [
        "`.describe()` is a function that tries to create a numeric summary of the variable. For categoric variables, it gives you the sample size, how many different unique responses there are and what is the most frequently occuring response. "
      ],
      "metadata": {
        "id": "lN8g2BZCTKCc"
      }
    },
    {
      "cell_type": "markdown",
      "source": [
        ""
      ],
      "metadata": {
        "id": "q89OzWnkcBB5"
      }
    },
    {
      "cell_type": "code",
      "source": [
        "myData[\"hcolor\"].describe()"
      ],
      "metadata": {
        "colab": {
          "base_uri": "https://localhost:8080/"
        },
        "id": "bOBW3SNaPU8F",
        "outputId": "8c73d7dc-cc2f-4e39-afb6-dab9f0c7c983"
      },
      "execution_count": 9,
      "outputs": [
        {
          "output_type": "execute_result",
          "data": {
            "text/plain": [
              "count        82\n",
              "unique        4\n",
              "top       Brown\n",
              "freq         38\n",
              "Name: hcolor, dtype: object"
            ]
          },
          "metadata": {},
          "execution_count": 9
        }
      ]
    },
    {
      "cell_type": "markdown",
      "source": [
        "For a numeric variable, we can find the average distance by using the `.mean()` command."
      ],
      "metadata": {
        "id": "bcIABmhYUY-1"
      }
    },
    {
      "cell_type": "code",
      "source": [
        "myData[\"distance\"].mean()"
      ],
      "metadata": {
        "colab": {
          "base_uri": "https://localhost:8080/"
        },
        "id": "Vav11h1qPYrg",
        "outputId": "d6ab5609-0714-48c0-8ddf-e434abb6fe26"
      },
      "execution_count": 10,
      "outputs": [
        {
          "output_type": "execute_result",
          "data": {
            "text/plain": [
              "12.028048780487808"
            ]
          },
          "metadata": {},
          "execution_count": 10
        }
      ]
    },
    {
      "cell_type": "markdown",
      "source": [
        "The `.describe()` command for numeric variables, we get a lot of different numerical summaries. Including the sample size, the mean, and the five number summary. Each of which, we will discuss further later on. "
      ],
      "metadata": {
        "id": "JCbEoVmkXgWd"
      }
    },
    {
      "cell_type": "code",
      "source": [
        "myData[\"distance\"].describe()"
      ],
      "metadata": {
        "colab": {
          "base_uri": "https://localhost:8080/"
        },
        "id": "HJnJc9cTP2NM",
        "outputId": "7e84e602-d050-4a83-a4f4-2ba89de16a17"
      },
      "execution_count": 11,
      "outputs": [
        {
          "output_type": "execute_result",
          "data": {
            "text/plain": [
              "count    82.000000\n",
              "mean     12.028049\n",
              "std       9.894883\n",
              "min       1.000000\n",
              "25%       5.425000\n",
              "50%      10.000000\n",
              "75%      15.000000\n",
              "max      70.000000\n",
              "Name: distance, dtype: float64"
            ]
          },
          "metadata": {},
          "execution_count": 11
        }
      ]
    },
    {
      "cell_type": "markdown",
      "source": [
        "Now take what we have seen some basic code, create a new notebook and answer the questions in our worksheet using the data from our survey!"
      ],
      "metadata": {
        "id": "b1RvJYMqcLF7"
      }
    }
  ]
}